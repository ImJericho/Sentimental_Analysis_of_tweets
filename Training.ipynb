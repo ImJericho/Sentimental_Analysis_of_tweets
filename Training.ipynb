{
 "cells": [
  {
   "cell_type": "markdown",
   "id": "065db7e7",
   "metadata": {},
   "source": [
    "# Dataset Information\n",
    "The objective of this task is to detect hate speech in tweets. For the sake of simplicity, we say a tweet contains hate speech if it has a racist or sexist sentiment associated with it. So, the task is to classify racist or sexist tweets from other tweets.\n",
    "\n",
    "Formally, given a training sample of tweets and labels, where label '1' denotes the tweet is racist/sexist and label '0' denotes the tweet is not racist/sexist, your objective is to predict the labels on the test dataset.\n",
    "\n",
    "For training the models, we provide a labelled dataset of 31,962 tweets. The dataset is provided in the form of a csv file with each line storing a tweet id, its label and the tweet."
   ]
  },
  {
   "cell_type": "markdown",
   "id": "50792f65",
   "metadata": {},
   "source": [
    "## Import modules"
   ]
  },
  {
   "cell_type": "code",
   "execution_count": 1,
   "id": "f51d0191",
   "metadata": {},
   "outputs": [
    {
     "name": "stderr",
     "output_type": "stream",
     "text": [
      "C:\\Users\\vivek\\AppData\\Roaming\\Python\\Python310\\site-packages\\requests\\__init__.py:102: RequestsDependencyWarning: urllib3 (1.26.9) or chardet (5.1.0)/charset_normalizer (2.0.12) doesn't match a supported version!\n",
      "  warnings.warn(\"urllib3 ({}) or chardet ({})/charset_normalizer ({}) doesn't match a supported \"\n"
     ]
    }
   ],
   "source": [
    "import pandas as pd # provide sql-like data manipulation tools. very handy.\n",
    "pd.options.mode.chained_assignment = None\n",
    "import numpy as np # high dimensional vector computing library.\n",
    "from copy import deepcopy\n",
    "from string import punctuation\n",
    "from random import shuffle\n",
    "import pickle\n",
    "import h5py\n",
    "import json\n",
    "import matplotlib.pyplot as plt \n",
    "\n",
    "import gensim\n",
    "from gensim.models.word2vec import Word2Vec # the word2vec model gensim class\n",
    "\n",
    "from tqdm import tqdm\n",
    "tqdm.pandas(desc=\"progress-bar\")\n",
    "\n",
    "from nltk.tokenize import TweetTokenizer # a tweet tokenizer from nltk.\n",
    "from nltk import word_tokenize\n",
    "\n",
    "from sklearn.preprocessing import scale\n",
    "from sklearn.model_selection import train_test_split\n",
    "from sklearn.feature_extraction.text import TfidfVectorizer\n",
    "\n",
    "from keras.preprocessing.image import ImageDataGenerator\n",
    "from keras.models import Sequential\n",
    "from keras.layers import Dense\n",
    "from keras.layers import Dropout\n",
    "from keras.layers import Flatten\n",
    "from keras.constraints import maxnorm\n",
    "from keras.optimizers import SGD\n",
    "from keras.layers.convolutional import Conv2D\n",
    "from keras.layers.convolutional import MaxPooling2D\n",
    "from keras.utils import np_utils\n",
    "from keras.callbacks import Callback\n",
    "from keras.models import model_from_json\n",
    "\n",
    "\n",
    "# importing bokeh library for interactive dataviz\n",
    "import bokeh.plotting as bp\n",
    "from bokeh.models import HoverTool, BoxSelectTool\n",
    "from bokeh.plotting import figure, show, output_notebook"
   ]
  },
  {
   "cell_type": "markdown",
   "id": "4cf9f5a9",
   "metadata": {},
   "source": [
    "## Loading the dataset"
   ]
  },
  {
   "cell_type": "code",
   "execution_count": 2,
   "id": "f2cac787",
   "metadata": {},
   "outputs": [
    {
     "name": "stdout",
     "output_type": "stream",
     "text": [
      "dataset loaded with shape (1599999, 4)\n"
     ]
    }
   ],
   "source": [
    "def ingest():\n",
    "    data = pd.read_csv('./trainingandtestdata/training.1600000.processed.noemoticon.csv', encoding='latin-1') # Enter your file location\n",
    "    data.columns=[\"Sentiment\",\"ItemID\",\"Date\",\"Blank\",\"SentimentSource\",\"SentimentText\"]\n",
    "    data.drop(['ItemID', 'SentimentSource'], axis=1, inplace=True)\n",
    "    data = data[data.Sentiment.isnull() == False]\n",
    "    data['Sentiment'] = data['Sentiment'].map( {4:1, 0:0}) #Converting 4 to 1\n",
    "    data = data[data['SentimentText'].isnull() == False]\n",
    "    data.reset_index(inplace=True)\n",
    "    data.drop('index', axis=1, inplace=True)\n",
    "    print ('dataset loaded with shape', data.shape  )  \n",
    "    return data\n",
    "\n",
    "data = ingest()"
   ]
  },
  {
   "cell_type": "code",
   "execution_count": 3,
   "id": "9c06680c",
   "metadata": {},
   "outputs": [
    {
     "data": {
      "text/html": [
       "<div>\n",
       "<style scoped>\n",
       "    .dataframe tbody tr th:only-of-type {\n",
       "        vertical-align: middle;\n",
       "    }\n",
       "\n",
       "    .dataframe tbody tr th {\n",
       "        vertical-align: top;\n",
       "    }\n",
       "\n",
       "    .dataframe thead th {\n",
       "        text-align: right;\n",
       "    }\n",
       "</style>\n",
       "<table border=\"1\" class=\"dataframe\">\n",
       "  <thead>\n",
       "    <tr style=\"text-align: right;\">\n",
       "      <th></th>\n",
       "      <th>Sentiment</th>\n",
       "      <th>Date</th>\n",
       "      <th>Blank</th>\n",
       "      <th>SentimentText</th>\n",
       "    </tr>\n",
       "  </thead>\n",
       "  <tbody>\n",
       "    <tr>\n",
       "      <th>0</th>\n",
       "      <td>0</td>\n",
       "      <td>Mon Apr 06 22:19:49 PDT 2009</td>\n",
       "      <td>NO_QUERY</td>\n",
       "      <td>is upset that he can't update his Facebook by ...</td>\n",
       "    </tr>\n",
       "    <tr>\n",
       "      <th>1</th>\n",
       "      <td>0</td>\n",
       "      <td>Mon Apr 06 22:19:53 PDT 2009</td>\n",
       "      <td>NO_QUERY</td>\n",
       "      <td>@Kenichan I dived many times for the ball. Man...</td>\n",
       "    </tr>\n",
       "    <tr>\n",
       "      <th>2</th>\n",
       "      <td>0</td>\n",
       "      <td>Mon Apr 06 22:19:57 PDT 2009</td>\n",
       "      <td>NO_QUERY</td>\n",
       "      <td>my whole body feels itchy and like its on fire</td>\n",
       "    </tr>\n",
       "    <tr>\n",
       "      <th>3</th>\n",
       "      <td>0</td>\n",
       "      <td>Mon Apr 06 22:19:57 PDT 2009</td>\n",
       "      <td>NO_QUERY</td>\n",
       "      <td>@nationwideclass no, it's not behaving at all....</td>\n",
       "    </tr>\n",
       "    <tr>\n",
       "      <th>4</th>\n",
       "      <td>0</td>\n",
       "      <td>Mon Apr 06 22:20:00 PDT 2009</td>\n",
       "      <td>NO_QUERY</td>\n",
       "      <td>@Kwesidei not the whole crew</td>\n",
       "    </tr>\n",
       "  </tbody>\n",
       "</table>\n",
       "</div>"
      ],
      "text/plain": [
       "   Sentiment                          Date     Blank  \\\n",
       "0          0  Mon Apr 06 22:19:49 PDT 2009  NO_QUERY   \n",
       "1          0  Mon Apr 06 22:19:53 PDT 2009  NO_QUERY   \n",
       "2          0  Mon Apr 06 22:19:57 PDT 2009  NO_QUERY   \n",
       "3          0  Mon Apr 06 22:19:57 PDT 2009  NO_QUERY   \n",
       "4          0  Mon Apr 06 22:20:00 PDT 2009  NO_QUERY   \n",
       "\n",
       "                                       SentimentText  \n",
       "0  is upset that he can't update his Facebook by ...  \n",
       "1  @Kenichan I dived many times for the ball. Man...  \n",
       "2    my whole body feels itchy and like its on fire   \n",
       "3  @nationwideclass no, it's not behaving at all....  \n",
       "4                      @Kwesidei not the whole crew   "
      ]
     },
     "execution_count": 3,
     "metadata": {},
     "output_type": "execute_result"
    }
   ],
   "source": [
    "data.head()"
   ]
  },
  {
   "cell_type": "markdown",
   "id": "cd26cb00",
   "metadata": {},
   "source": [
    "## Preprocessing the dataset"
   ]
  },
  {
   "cell_type": "code",
   "execution_count": 4,
   "id": "6fc07948",
   "metadata": {},
   "outputs": [],
   "source": [
    "tokenizer = TweetTokenizer()\n",
    "def tokenize(tweet):\n",
    "    try:\n",
    "        tweet = tweet.lower()\n",
    "        tokens = tokenizer.tokenize(tweet)\n",
    "        tokens = list(filter(lambda t: not t.startswith('@'), tokens))\n",
    "        tokens = list(filter(lambda t: not t.startswith('#'), tokens))\n",
    "        tokens = list(filter(lambda t: not t.startswith('http'), tokens))\n",
    "        return tokens\n",
    "    except:\n",
    "        return 'NC'"
   ]
  },
  {
   "cell_type": "code",
   "execution_count": 5,
   "id": "53894f3b",
   "metadata": {},
   "outputs": [
    {
     "name": "stderr",
     "output_type": "stream",
     "text": [
      "progress-bar: 100%|████████████████████████████████████████████████████████| 1599999/1599999 [06:17<00:00, 4238.25it/s]\n"
     ]
    }
   ],
   "source": [
    "def postprocess(data):\n",
    "#     , n=1000000\n",
    "#     data = data.head(n)\n",
    "    data['tokens'] = data['SentimentText'].progress_map(tokenize)  ## progress_map is a variant of the map function plus a progress bar. Handy to monitor DataFrame creations.\n",
    "    data = data[data.tokens != 'NC']\n",
    "    data.reset_index(inplace=True)\n",
    "    data.drop('index', inplace=True, axis=1)\n",
    "    return data\n",
    "\n",
    "data = postprocess(data)"
   ]
  },
  {
   "cell_type": "markdown",
   "id": "0e4d8ad8",
   "metadata": {},
   "source": [
    "## Labelise Data"
   ]
  },
  {
   "cell_type": "code",
   "execution_count": 6,
   "id": "1fc5cb98",
   "metadata": {},
   "outputs": [],
   "source": [
    "LabeledSentence = gensim.models.doc2vec.TaggedDocument # we'll talk about this down below\n",
    "\n",
    "def labelizeTweets(tweets, label_type):\n",
    "    labelized = []\n",
    "    for i,v in tqdm(enumerate(tweets)):\n",
    "        label = '%s_%s'%(label_type,i)\n",
    "        labelized.append(LabeledSentence(v, [label]))\n",
    "    return labelized"
   ]
  },
  {
   "cell_type": "code",
   "execution_count": 7,
   "id": "16c7ceab",
   "metadata": {},
   "outputs": [],
   "source": [
    "#Splitting for training and testing\n",
    "x_train, x_test, y_train, y_test = train_test_split(np.array(data.head(1000000).tokens),\n",
    "                                                    np.array(data.head(1000000).Sentiment), test_size=0.2)"
   ]
  },
  {
   "cell_type": "code",
   "execution_count": 8,
   "id": "5cf37140",
   "metadata": {},
   "outputs": [
    {
     "name": "stderr",
     "output_type": "stream",
     "text": [
      "800000it [00:08, 92624.76it/s] \n",
      "200000it [00:00, 244486.36it/s]\n"
     ]
    }
   ],
   "source": [
    "x_train = labelizeTweets(x_train, 'TRAIN')\n",
    "x_test = labelizeTweets(x_test, 'TEST') "
   ]
  },
  {
   "cell_type": "code",
   "execution_count": 9,
   "id": "df2e064e",
   "metadata": {},
   "outputs": [
    {
     "name": "stderr",
     "output_type": "stream",
     "text": [
      "1599999it [00:20, 76741.35it/s] \n"
     ]
    }
   ],
   "source": [
    "data_labellised= labelizeTweets(np.array(data.tokens), 'data')"
   ]
  },
  {
   "cell_type": "markdown",
   "id": "ae4579d4",
   "metadata": {},
   "source": [
    "## Exploratry data analysis"
   ]
  },
  {
   "cell_type": "code",
   "execution_count": 10,
   "id": "86f08384",
   "metadata": {},
   "outputs": [],
   "source": [
    "# # frequent words visualization for -ve\n",
    "# all_words = \" \".join([sentence for sentence in df['clean_tweet'][df['label']==1]])\n",
    "\n",
    "# wordcloud = WordCloud(width=800, height=500, random_state=42, max_font_size=100).generate(all_words)\n",
    "\n",
    "# # plot the graph\n",
    "# plt.figure(figsize=(15,8))\n",
    "# plt.imshow(wordcloud, interpolation='bilinear')\n",
    "# plt.axis('off')\n",
    "# plt.show()"
   ]
  },
  {
   "cell_type": "code",
   "execution_count": null,
   "id": "607573b0",
   "metadata": {},
   "outputs": [],
   "source": []
  },
  {
   "cell_type": "markdown",
   "id": "fc0b7097",
   "metadata": {},
   "source": [
    "## Building word2vec vocabulary and training"
   ]
  },
  {
   "cell_type": "code",
   "execution_count": 11,
   "id": "e6f3081a",
   "metadata": {},
   "outputs": [
    {
     "name": "stderr",
     "output_type": "stream",
     "text": [
      "100%|███████████████████████████████████████████████████████████████████| 1599999/1599999 [00:01<00:00, 1414229.45it/s]\n"
     ]
    }
   ],
   "source": [
    "n=1000000\n",
    "n_dim = 200\n",
    "tweet_w2v = Word2Vec(vector_size=n_dim, min_count=10)\n",
    "tweet_w2v.build_vocab([x.words for x in tqdm(data_labellised)])"
   ]
  },
  {
   "cell_type": "code",
   "execution_count": 12,
   "id": "50dcf422",
   "metadata": {},
   "outputs": [
    {
     "name": "stderr",
     "output_type": "stream",
     "text": [
      "100%|███████████████████████████████████████████████████████████████████| 1599999/1599999 [00:01<00:00, 1364532.12it/s]\n"
     ]
    },
    {
     "data": {
      "text/plain": [
       "(86481786, 118492055)"
      ]
     },
     "execution_count": 12,
     "metadata": {},
     "output_type": "execute_result"
    }
   ],
   "source": [
    "tweet_w2v.train([x.words for x in tqdm(data_labellised)],total_examples=tweet_w2v.corpus_count, epochs=tweet_w2v.epochs) "
   ]
  },
  {
   "cell_type": "code",
   "execution_count": 13,
   "id": "14ac7a86",
   "metadata": {},
   "outputs": [
    {
     "data": {
      "text/plain": [
       "array([-1.456789  ,  0.17298372, -0.42566878, -1.0395752 , -0.81388956,\n",
       "       -0.5286573 , -0.15369165,  1.416732  , -0.8759864 , -0.5698073 ,\n",
       "       -0.0680962 , -0.73051476, -0.08978359, -1.7200352 ,  0.01341879,\n",
       "        0.29176313, -0.35773915,  0.42538205, -0.7328192 , -2.4816663 ,\n",
       "        1.1601367 , -1.5728831 ,  1.905467  ,  0.31764805,  1.105683  ,\n",
       "        0.8333067 ,  1.6343863 , -0.2759056 , -0.40420222,  0.4828367 ,\n",
       "       -0.6261319 ,  1.2176775 , -0.86758333, -0.6807841 , -1.1975994 ,\n",
       "       -0.20793377,  1.7313544 , -0.7382337 ,  0.9589271 , -0.11782512,\n",
       "       -1.1019429 , -2.485898  , -0.20628533, -0.05414274, -1.0182922 ,\n",
       "        2.4717777 ,  0.56440985,  0.32911605,  2.9891093 ,  0.35594702,\n",
       "        0.7188384 ,  0.58216184, -1.3354557 ,  0.31988502, -1.3287048 ,\n",
       "        0.48533145,  0.3246286 ,  0.15365058,  0.26543778, -1.4515023 ,\n",
       "       -1.7204909 ,  1.1772506 ,  0.7430171 , -0.08569822,  1.6623672 ,\n",
       "        0.02137739, -0.28818232,  0.31419274, -1.7343674 ,  1.4776704 ,\n",
       "       -1.3484045 ,  0.12226116, -0.14207801,  0.88694113,  0.43100068,\n",
       "        1.5953221 ,  3.0100808 ,  1.1331825 ,  0.12702112, -1.2358633 ,\n",
       "        1.8719798 , -0.46663624,  0.3029017 , -0.19327244, -0.347516  ,\n",
       "       -1.763419  , -0.25517553, -0.83641934, -1.1094558 , -0.45843565,\n",
       "        0.831487  ,  0.26964766,  0.9340055 , -0.49230805, -0.18446575,\n",
       "       -0.30150485, -1.2107635 , -0.97924095, -1.0832322 ,  1.3185351 ,\n",
       "        2.6422627 , -0.10619362,  0.22143629,  0.86955994,  2.5757577 ,\n",
       "        0.16704392,  1.5354307 ,  1.3182583 ,  1.1582732 , -0.944822  ,\n",
       "       -0.17842583, -1.2635633 ,  0.54415   ,  0.6892554 , -0.5340569 ,\n",
       "       -2.2630084 ,  0.27043355,  0.9863778 , -1.547363  ,  0.64110005,\n",
       "        0.5873028 ,  0.19787478, -0.64420134, -1.8403696 ,  1.5989566 ,\n",
       "        0.5809522 , -1.0583149 ,  1.7163844 , -1.8968642 ,  0.18166779,\n",
       "        0.65986073,  1.6041672 ,  1.217549  , -1.6371343 ,  0.37201065,\n",
       "       -1.5132803 ,  1.0355042 , -0.770081  , -1.9888427 ,  0.18881728,\n",
       "        0.66484576, -0.8914329 , -0.5675514 , -0.2640941 , -0.6410095 ,\n",
       "       -0.3165325 , -0.01771782,  0.44094414, -2.1271527 , -0.9873608 ,\n",
       "       -1.2661355 , -0.778321  , -0.12074433, -0.07875483, -1.8199689 ,\n",
       "        0.5803898 , -0.5062979 ,  0.4516956 ,  1.2787316 ,  0.03611932,\n",
       "        0.62194234,  1.4212657 , -1.3863845 , -0.33854565,  1.7228907 ,\n",
       "        0.66020125, -0.59987235,  1.3112932 ,  1.3286529 ,  0.9984125 ,\n",
       "        1.7147956 , -1.5249901 , -1.0332851 ,  0.7889726 , -1.3077484 ,\n",
       "       -0.4584099 , -0.18288487,  0.17645241, -1.3547801 , -0.38676894,\n",
       "       -0.13623096,  0.80799156, -0.20025067,  0.6141208 , -0.68267554,\n",
       "       -0.5736667 ,  0.10338904,  0.57017845, -0.20656496, -0.61400765,\n",
       "       -0.46950948,  1.1176884 , -2.1081855 , -0.46974558, -1.6629289 ,\n",
       "       -0.46585104,  0.4586783 ,  1.0870267 , -0.15513857, -0.2911891 ],\n",
       "      dtype=float32)"
      ]
     },
     "execution_count": 13,
     "metadata": {},
     "output_type": "execute_result"
    }
   ],
   "source": [
    "#convert any word(present in vocabulary) to vector.\n",
    "tweet_w2v.wv['bye']"
   ]
  },
  {
   "cell_type": "code",
   "execution_count": 14,
   "id": "ce0d902c",
   "metadata": {},
   "outputs": [],
   "source": [
    "#Save the w2v model\n",
    "# tweet_w2v.save('w2vmodel')\n",
    "#Load the w2v model\n",
    "#new_w2vmodel = gensim.models.Word2Vec.load('w2vmodel')"
   ]
  },
  {
   "cell_type": "code",
   "execution_count": 15,
   "id": "240be7e7",
   "metadata": {},
   "outputs": [
    {
     "data": {
      "text/plain": [
       "[('happpy', 0.6302089691162109),\n",
       " ('thrilled', 0.6099652051925659),\n",
       " ('pleased', 0.5953126549720764),\n",
       " ('unhappy', 0.5685697793960571),\n",
       " ('blessed', 0.5559052228927612),\n",
       " ('hapy', 0.5432155132293701),\n",
       " ('upset', 0.5414510369300842),\n",
       " ('sad', 0.5407065153121948),\n",
       " ('thankful', 0.5387083888053894),\n",
       " ('depressed', 0.5338698625564575)]"
      ]
     },
     "execution_count": 15,
     "metadata": {},
     "output_type": "execute_result"
    }
   ],
   "source": [
    "tweet_w2v.wv.most_similar('happy')"
   ]
  },
  {
   "cell_type": "markdown",
   "id": "2592c0ea",
   "metadata": {},
   "source": [
    "## Plotting the vectors"
   ]
  },
  {
   "cell_type": "code",
   "execution_count": 16,
   "id": "87b0a23f",
   "metadata": {},
   "outputs": [],
   "source": [
    "# # defining the chart\n",
    "# output_notebook()\n",
    "# plot_tfidf = bp.figure(width=700, height=600, title=\"A map of 10000 word vectors\",\n",
    "#                         tools=\"pan,wheel_zoom,box_zoom,reset,hover,previewsave\",\n",
    "#                         x_axis_type=None, y_axis_type=None, min_border=1)\n",
    "\n",
    "# # getting a list of word vectors. limit to 10000. each is of 200 dimensions\n",
    "# word_vectors = [tweet_w2v.wv[w] for w in list(tweet_w2v.wv.vocab.keys())[:5000]]\n",
    "\n",
    "# # dimensionality reduction. converting the vectors to 2d vectors\n",
    "# from sklearn.manifold import TSNE\n",
    "# tsne_model = TSNE(n_components=2, verbose=1, random_state=0)\n",
    "# tsne_w2v = tsne_model.fit_transform(word_vectors)\n",
    "\n",
    "# # putting everything in a dataframe\n",
    "# tsne_df = pd.DataFrame(tsne_w2v, columns=['x', 'y'])\n",
    "# tsne_df['words'] = list(tweet_w2v.wv.vocab.keys())[:5000]\n",
    "\n",
    "# # plotting. the corresponding word appears when you hover on the data point.\n",
    "# plot_tfidf.scatter(x='x', y='y', source=tsne_df)\n",
    "# hover = plot_tfidf.select(dict(type=HoverTool))\n",
    "# hover.tooltips={\"word\": \"@words\"}\n",
    "# show(plot_tfidf)"
   ]
  },
  {
   "cell_type": "markdown",
   "id": "7d836628",
   "metadata": {},
   "source": [
    "## TF-IDF matrix of Data"
   ]
  },
  {
   "cell_type": "code",
   "execution_count": 17,
   "id": "b59e03ac",
   "metadata": {},
   "outputs": [
    {
     "name": "stdout",
     "output_type": "stream",
     "text": [
      "building tf-idf matrix ...\n",
      "vocab size : 34893\n"
     ]
    },
    {
     "name": "stderr",
     "output_type": "stream",
     "text": [
      "C:\\Users\\vivek\\AppData\\Roaming\\Python\\Python310\\site-packages\\sklearn\\utils\\deprecation.py:87: FutureWarning: Function get_feature_names is deprecated; get_feature_names is deprecated in 1.0 and will be removed in 1.2. Please use get_feature_names_out instead.\n",
      "  warnings.warn(msg, category=FutureWarning)\n"
     ]
    }
   ],
   "source": [
    "print ('building tf-idf matrix ...')\n",
    "vectorizer = TfidfVectorizer(analyzer=lambda x: x, min_df=10)\n",
    "matrix = vectorizer.fit_transform([x.words for x in data_labellised])\n",
    "tfidf = dict(zip(vectorizer.get_feature_names(), vectorizer.idf_))\n",
    "print ('vocab size :', len(tfidf))"
   ]
  },
  {
   "cell_type": "code",
   "execution_count": 18,
   "id": "20dcd703",
   "metadata": {},
   "outputs": [],
   "source": [
    "#Save the tfidf \n",
    "# with open(\"tfidfdict.txt\", \"wb\") as myFile:\n",
    "#     pickle.dump(tfidf, myFile)\n",
    "# with open(\"tfidfdict.txt\", \"rb\") as myFile:\n",
    "#     tfidf = pickle.load(myFile)"
   ]
  },
  {
   "cell_type": "markdown",
   "id": "431262ab",
   "metadata": {},
   "source": [
    "## Build tweet vector to give input to FFNN"
   ]
  },
  {
   "cell_type": "code",
   "execution_count": 19,
   "id": "2d9b9517",
   "metadata": {},
   "outputs": [],
   "source": [
    "def buildWordVector(tokens, size):\n",
    "    vec = np.zeros(size).reshape((1, size))\n",
    "    count = 0.\n",
    "    for word in tokens:\n",
    "        try:\n",
    "            vec += tweet_w2v.wv[word].reshape((1, size)) * tfidf[word] #combining w2v vectors with tfidf value of words in the tweet.\n",
    "            count += 1.\n",
    "        except KeyError: # handling the case where the token is not\n",
    "                         # in the corpus. useful for testing.\n",
    "            continue\n",
    "    if count != 0:\n",
    "        vec /= count\n",
    "    return vec"
   ]
  },
  {
   "cell_type": "code",
   "execution_count": 20,
   "id": "3160f28a",
   "metadata": {},
   "outputs": [
    {
     "name": "stderr",
     "output_type": "stream",
     "text": [
      "800000it [04:05, 3255.11it/s]\n",
      "200000it [01:11, 2784.49it/s]\n"
     ]
    }
   ],
   "source": [
    "train_vecs_w2v = np.concatenate([buildWordVector(z, n_dim) for z in tqdm(map(lambda x: x.words, x_train))])\n",
    "train_vecs_w2v = scale(train_vecs_w2v)\n",
    "\n",
    "test_vecs_w2v = np.concatenate([buildWordVector(z, n_dim) for z in tqdm(map(lambda x: x.words, x_test))])\n",
    "test_vecs_w2v = scale(test_vecs_w2v)"
   ]
  },
  {
   "cell_type": "markdown",
   "id": "ecaa860b",
   "metadata": {},
   "source": [
    "## Training 3 layered FFNN"
   ]
  },
  {
   "cell_type": "code",
   "execution_count": 21,
   "id": "205cf442",
   "metadata": {},
   "outputs": [
    {
     "name": "stdout",
     "output_type": "stream",
     "text": [
      "Epoch 1/100\n",
      "80/80 - 4s - loss: 0.4469 - accuracy: 0.8116 - 4s/epoch - 49ms/step\n",
      "Epoch 2/100\n",
      "80/80 - 1s - loss: 0.3711 - accuracy: 0.8462 - 1s/epoch - 15ms/step\n",
      "Epoch 3/100\n",
      "80/80 - 1s - loss: 0.3548 - accuracy: 0.8528 - 1s/epoch - 14ms/step\n",
      "Epoch 4/100\n",
      "80/80 - 1s - loss: 0.3474 - accuracy: 0.8556 - 1s/epoch - 15ms/step\n",
      "Epoch 5/100\n",
      "80/80 - 1s - loss: 0.3430 - accuracy: 0.8575 - 1s/epoch - 15ms/step\n",
      "Epoch 6/100\n",
      "80/80 - 1s - loss: 0.3400 - accuracy: 0.8586 - 1s/epoch - 15ms/step\n",
      "Epoch 7/100\n",
      "80/80 - 1s - loss: 0.3377 - accuracy: 0.8595 - 1s/epoch - 14ms/step\n",
      "Epoch 8/100\n",
      "80/80 - 1s - loss: 0.3358 - accuracy: 0.8604 - 1s/epoch - 15ms/step\n",
      "Epoch 9/100\n",
      "80/80 - 1s - loss: 0.3343 - accuracy: 0.8609 - 1s/epoch - 16ms/step\n",
      "Epoch 10/100\n",
      "80/80 - 1s - loss: 0.3330 - accuracy: 0.8615 - 1s/epoch - 15ms/step\n",
      "Epoch 11/100\n",
      "80/80 - 1s - loss: 0.3319 - accuracy: 0.8620 - 1s/epoch - 14ms/step\n",
      "Epoch 12/100\n",
      "80/80 - 1s - loss: 0.3308 - accuracy: 0.8626 - 1s/epoch - 15ms/step\n",
      "Epoch 13/100\n",
      "80/80 - 1s - loss: 0.3300 - accuracy: 0.8630 - 1s/epoch - 15ms/step\n",
      "Epoch 14/100\n",
      "80/80 - 1s - loss: 0.3292 - accuracy: 0.8632 - 1s/epoch - 14ms/step\n",
      "Epoch 15/100\n",
      "80/80 - 1s - loss: 0.3285 - accuracy: 0.8634 - 1s/epoch - 13ms/step\n",
      "Epoch 16/100\n",
      "80/80 - 1s - loss: 0.3278 - accuracy: 0.8637 - 1s/epoch - 14ms/step\n",
      "Epoch 17/100\n",
      "80/80 - 1s - loss: 0.3272 - accuracy: 0.8641 - 1s/epoch - 14ms/step\n",
      "Epoch 18/100\n",
      "80/80 - 1s - loss: 0.3267 - accuracy: 0.8641 - 1s/epoch - 15ms/step\n",
      "Epoch 19/100\n",
      "80/80 - 1s - loss: 0.3261 - accuracy: 0.8642 - 1s/epoch - 14ms/step\n",
      "Epoch 20/100\n",
      "80/80 - 1s - loss: 0.3256 - accuracy: 0.8646 - 1s/epoch - 14ms/step\n",
      "Epoch 21/100\n",
      "80/80 - 1s - loss: 0.3251 - accuracy: 0.8647 - 1s/epoch - 15ms/step\n",
      "Epoch 22/100\n",
      "80/80 - 1s - loss: 0.3248 - accuracy: 0.8650 - 1s/epoch - 15ms/step\n",
      "Epoch 23/100\n",
      "80/80 - 1s - loss: 0.3243 - accuracy: 0.8650 - 1s/epoch - 14ms/step\n",
      "Epoch 24/100\n",
      "80/80 - 1s - loss: 0.3239 - accuracy: 0.8651 - 1s/epoch - 15ms/step\n",
      "Epoch 25/100\n",
      "80/80 - 1s - loss: 0.3236 - accuracy: 0.8654 - 1s/epoch - 14ms/step\n",
      "Epoch 26/100\n",
      "80/80 - 1s - loss: 0.3232 - accuracy: 0.8653 - 1s/epoch - 15ms/step\n",
      "Epoch 27/100\n",
      "80/80 - 1s - loss: 0.3229 - accuracy: 0.8655 - 1s/epoch - 15ms/step\n",
      "Epoch 28/100\n",
      "80/80 - 1s - loss: 0.3226 - accuracy: 0.8657 - 1s/epoch - 15ms/step\n",
      "Epoch 29/100\n",
      "80/80 - 1s - loss: 0.3223 - accuracy: 0.8659 - 1s/epoch - 15ms/step\n",
      "Epoch 30/100\n",
      "80/80 - 1s - loss: 0.3221 - accuracy: 0.8659 - 1s/epoch - 15ms/step\n",
      "Epoch 31/100\n",
      "80/80 - 1s - loss: 0.3217 - accuracy: 0.8661 - 1s/epoch - 15ms/step\n",
      "Epoch 32/100\n",
      "80/80 - 1s - loss: 0.3216 - accuracy: 0.8661 - 1s/epoch - 15ms/step\n",
      "Epoch 33/100\n",
      "80/80 - 1s - loss: 0.3213 - accuracy: 0.8663 - 1s/epoch - 14ms/step\n",
      "Epoch 34/100\n",
      "80/80 - 1s - loss: 0.3210 - accuracy: 0.8664 - 1s/epoch - 15ms/step\n",
      "Epoch 35/100\n",
      "80/80 - 1s - loss: 0.3209 - accuracy: 0.8664 - 1s/epoch - 15ms/step\n",
      "Epoch 36/100\n",
      "80/80 - 1s - loss: 0.3207 - accuracy: 0.8664 - 1s/epoch - 15ms/step\n",
      "Epoch 37/100\n",
      "80/80 - 1s - loss: 0.3204 - accuracy: 0.8666 - 1s/epoch - 15ms/step\n",
      "Epoch 38/100\n",
      "80/80 - 1s - loss: 0.3203 - accuracy: 0.8667 - 1s/epoch - 16ms/step\n",
      "Epoch 39/100\n",
      "80/80 - 1s - loss: 0.3201 - accuracy: 0.8669 - 1s/epoch - 15ms/step\n",
      "Epoch 40/100\n",
      "80/80 - 1s - loss: 0.3199 - accuracy: 0.8668 - 1s/epoch - 15ms/step\n",
      "Epoch 41/100\n",
      "80/80 - 1s - loss: 0.3197 - accuracy: 0.8668 - 1s/epoch - 15ms/step\n",
      "Epoch 42/100\n",
      "80/80 - 1s - loss: 0.3195 - accuracy: 0.8670 - 1s/epoch - 15ms/step\n",
      "Epoch 43/100\n",
      "80/80 - 1s - loss: 0.3195 - accuracy: 0.8670 - 1s/epoch - 15ms/step\n",
      "Epoch 44/100\n",
      "80/80 - 1s - loss: 0.3193 - accuracy: 0.8670 - 1s/epoch - 15ms/step\n",
      "Epoch 45/100\n",
      "80/80 - 1s - loss: 0.3192 - accuracy: 0.8671 - 1s/epoch - 15ms/step\n",
      "Epoch 46/100\n",
      "80/80 - 1s - loss: 0.3190 - accuracy: 0.8672 - 1s/epoch - 15ms/step\n",
      "Epoch 47/100\n",
      "80/80 - 1s - loss: 0.3188 - accuracy: 0.8672 - 1s/epoch - 15ms/step\n",
      "Epoch 48/100\n",
      "80/80 - 1s - loss: 0.3188 - accuracy: 0.8672 - 1s/epoch - 14ms/step\n",
      "Epoch 49/100\n",
      "80/80 - 1s - loss: 0.3186 - accuracy: 0.8672 - 1s/epoch - 15ms/step\n",
      "Epoch 50/100\n",
      "80/80 - 1s - loss: 0.3184 - accuracy: 0.8675 - 1s/epoch - 13ms/step\n",
      "Epoch 51/100\n",
      "80/80 - 1s - loss: 0.3184 - accuracy: 0.8673 - 1s/epoch - 15ms/step\n",
      "Epoch 52/100\n",
      "80/80 - 1s - loss: 0.3183 - accuracy: 0.8676 - 1s/epoch - 15ms/step\n",
      "Epoch 53/100\n",
      "80/80 - 1s - loss: 0.3181 - accuracy: 0.8676 - 1s/epoch - 14ms/step\n",
      "Epoch 54/100\n",
      "80/80 - 1s - loss: 0.3181 - accuracy: 0.8675 - 1s/epoch - 14ms/step\n",
      "Epoch 55/100\n",
      "80/80 - 1s - loss: 0.3179 - accuracy: 0.8675 - 1s/epoch - 15ms/step\n",
      "Epoch 56/100\n",
      "80/80 - 1s - loss: 0.3179 - accuracy: 0.8677 - 1s/epoch - 15ms/step\n",
      "Epoch 57/100\n",
      "80/80 - 1s - loss: 0.3178 - accuracy: 0.8678 - 1s/epoch - 15ms/step\n",
      "Epoch 58/100\n",
      "80/80 - 1s - loss: 0.3176 - accuracy: 0.8678 - 1s/epoch - 15ms/step\n",
      "Epoch 59/100\n",
      "80/80 - 1s - loss: 0.3176 - accuracy: 0.8678 - 1s/epoch - 15ms/step\n",
      "Epoch 60/100\n",
      "80/80 - 1s - loss: 0.3175 - accuracy: 0.8679 - 1s/epoch - 15ms/step\n",
      "Epoch 61/100\n",
      "80/80 - 1s - loss: 0.3175 - accuracy: 0.8679 - 1s/epoch - 15ms/step\n",
      "Epoch 62/100\n",
      "80/80 - 1s - loss: 0.3173 - accuracy: 0.8680 - 1s/epoch - 15ms/step\n",
      "Epoch 63/100\n",
      "80/80 - 1s - loss: 0.3172 - accuracy: 0.8678 - 1s/epoch - 15ms/step\n",
      "Epoch 64/100\n",
      "80/80 - 1s - loss: 0.3171 - accuracy: 0.8680 - 1s/epoch - 15ms/step\n",
      "Epoch 65/100\n",
      "80/80 - 1s - loss: 0.3171 - accuracy: 0.8680 - 1s/epoch - 15ms/step\n",
      "Epoch 66/100\n",
      "80/80 - 1s - loss: 0.3169 - accuracy: 0.8681 - 1s/epoch - 15ms/step\n",
      "Epoch 67/100\n",
      "80/80 - 1s - loss: 0.3170 - accuracy: 0.8682 - 1s/epoch - 15ms/step\n",
      "Epoch 68/100\n",
      "80/80 - 1s - loss: 0.3169 - accuracy: 0.8682 - 1s/epoch - 15ms/step\n",
      "Epoch 69/100\n",
      "80/80 - 1s - loss: 0.3167 - accuracy: 0.8679 - 1s/epoch - 15ms/step\n",
      "Epoch 70/100\n",
      "80/80 - 1s - loss: 0.3167 - accuracy: 0.8681 - 1s/epoch - 15ms/step\n",
      "Epoch 71/100\n",
      "80/80 - 1s - loss: 0.3166 - accuracy: 0.8680 - 1s/epoch - 14ms/step\n",
      "Epoch 72/100\n",
      "80/80 - 1s - loss: 0.3165 - accuracy: 0.8681 - 1s/epoch - 15ms/step\n",
      "Epoch 73/100\n",
      "80/80 - 1s - loss: 0.3165 - accuracy: 0.8682 - 1s/epoch - 15ms/step\n",
      "Epoch 74/100\n",
      "80/80 - 1s - loss: 0.3164 - accuracy: 0.8681 - 1s/epoch - 15ms/step\n",
      "Epoch 75/100\n",
      "80/80 - 1s - loss: 0.3163 - accuracy: 0.8682 - 1s/epoch - 14ms/step\n",
      "Epoch 76/100\n",
      "80/80 - 1s - loss: 0.3163 - accuracy: 0.8684 - 1s/epoch - 15ms/step\n",
      "Epoch 77/100\n",
      "80/80 - 1s - loss: 0.3162 - accuracy: 0.8683 - 1s/epoch - 14ms/step\n",
      "Epoch 78/100\n",
      "80/80 - 1s - loss: 0.3161 - accuracy: 0.8685 - 1s/epoch - 14ms/step\n",
      "Epoch 79/100\n",
      "80/80 - 1s - loss: 0.3160 - accuracy: 0.8685 - 1s/epoch - 14ms/step\n",
      "Epoch 80/100\n",
      "80/80 - 1s - loss: 0.3160 - accuracy: 0.8683 - 1s/epoch - 15ms/step\n",
      "Epoch 81/100\n",
      "80/80 - 1s - loss: 0.3159 - accuracy: 0.8684 - 1s/epoch - 15ms/step\n",
      "Epoch 82/100\n",
      "80/80 - 1s - loss: 0.3158 - accuracy: 0.8684 - 1s/epoch - 14ms/step\n",
      "Epoch 83/100\n",
      "80/80 - 1s - loss: 0.3158 - accuracy: 0.8684 - 1s/epoch - 15ms/step\n",
      "Epoch 84/100\n",
      "80/80 - 1s - loss: 0.3157 - accuracy: 0.8684 - 1s/epoch - 15ms/step\n",
      "Epoch 85/100\n",
      "80/80 - 1s - loss: 0.3156 - accuracy: 0.8685 - 1s/epoch - 15ms/step\n",
      "Epoch 86/100\n",
      "80/80 - 1s - loss: 0.3156 - accuracy: 0.8685 - 1s/epoch - 15ms/step\n",
      "Epoch 87/100\n",
      "80/80 - 1s - loss: 0.3155 - accuracy: 0.8686 - 1s/epoch - 15ms/step\n",
      "Epoch 88/100\n",
      "80/80 - 1s - loss: 0.3155 - accuracy: 0.8685 - 1s/epoch - 14ms/step\n",
      "Epoch 89/100\n",
      "80/80 - 1s - loss: 0.3154 - accuracy: 0.8685 - 1s/epoch - 15ms/step\n",
      "Epoch 90/100\n",
      "80/80 - 1s - loss: 0.3153 - accuracy: 0.8685 - 1s/epoch - 15ms/step\n",
      "Epoch 91/100\n",
      "80/80 - 1s - loss: 0.3153 - accuracy: 0.8685 - 1s/epoch - 15ms/step\n",
      "Epoch 92/100\n",
      "80/80 - 1s - loss: 0.3152 - accuracy: 0.8687 - 1s/epoch - 14ms/step\n",
      "Epoch 93/100\n",
      "80/80 - 1s - loss: 0.3152 - accuracy: 0.8687 - 1s/epoch - 15ms/step\n",
      "Epoch 94/100\n",
      "80/80 - 1s - loss: 0.3151 - accuracy: 0.8687 - 1s/epoch - 15ms/step\n",
      "Epoch 95/100\n",
      "80/80 - 1s - loss: 0.3151 - accuracy: 0.8687 - 1s/epoch - 15ms/step\n",
      "Epoch 96/100\n",
      "80/80 - 1s - loss: 0.3151 - accuracy: 0.8687 - 1s/epoch - 15ms/step\n",
      "Epoch 97/100\n",
      "80/80 - 1s - loss: 0.3150 - accuracy: 0.8688 - 1s/epoch - 15ms/step\n",
      "Epoch 98/100\n",
      "80/80 - 1s - loss: 0.3149 - accuracy: 0.8687 - 1s/epoch - 15ms/step\n",
      "Epoch 99/100\n",
      "80/80 - 1s - loss: 0.3149 - accuracy: 0.8688 - 1s/epoch - 15ms/step\n",
      "Epoch 100/100\n",
      "80/80 - 1s - loss: 0.3148 - accuracy: 0.8688 - 1s/epoch - 15ms/step\n"
     ]
    },
    {
     "data": {
      "text/plain": [
       "<keras.callbacks.History at 0x1b834d354e0>"
      ]
     },
     "execution_count": 21,
     "metadata": {},
     "output_type": "execute_result"
    }
   ],
   "source": [
    "model = Sequential()\n",
    "model.add(Dense(32, activation='relu', input_dim=200))\n",
    "model.add(Dense(16, activation='relu'))\n",
    "model.add(Dense(8, activation='relu'))\n",
    "model.add(Dense(1, activation='sigmoid'))\n",
    "model.compile(optimizer='rmsprop',\n",
    "              loss='binary_crossentropy',\n",
    "              metrics=['accuracy'])\n",
    "\n",
    "model.fit(train_vecs_w2v, y_train, epochs=100, batch_size=10000, verbose=2)"
   ]
  },
  {
   "cell_type": "code",
   "execution_count": 22,
   "id": "5f527db1",
   "metadata": {},
   "outputs": [
    {
     "name": "stdout",
     "output_type": "stream",
     "text": [
      "1563/1563 - 4s - loss: 0.3272 - accuracy: 0.8639 - 4s/epoch - 3ms/step\n",
      "loss :  0.3271777033805847 \n",
      " accuracy :  0.8638700246810913\n"
     ]
    }
   ],
   "source": [
    "# Evaluating accuracy score\n",
    "\n",
    "score = model.evaluate(test_vecs_w2v, y_test, batch_size=128, verbose=2)\n",
    "print(model.metrics_names[0],\": \",score[0],\"\\n\",model.metrics_names[1],\": \",score[1])"
   ]
  },
  {
   "cell_type": "code",
   "execution_count": 23,
   "id": "ba6426d2",
   "metadata": {},
   "outputs": [],
   "source": [
    "# model = Sequential()\n",
    "# model.add(Dense(64, activation='relu', input_dim=200))\n",
    "# model.add(Dense(32, activation='relu'))\n",
    "# model.add(Dense(16, activation='relu'))\n",
    "# model.add(Dense(8, activation='relu'))\n",
    "# model.add(Dense(1, activation='sigmoid'))\n",
    "# model.compile(optimizer='rmsprop',\n",
    "#               loss='binary_crossentropy',\n",
    "#               metrics=['accuracy'])\n",
    "\n",
    "# model.fit(train_vecs_w2v, y_train, epochs=100, batch_size=10000, verbose=2)"
   ]
  },
  {
   "cell_type": "code",
   "execution_count": 24,
   "id": "66e2c8fb",
   "metadata": {},
   "outputs": [],
   "source": [
    "# # Evaluating accuracy score\n",
    "\n",
    "# score = model.evaluate(test_vecs_w2v, y_test, batch_size=128, verbose=2)\n",
    "# print(model.metrics_names[0],\": \",score[0],\"\\n\",model.metrics_names[1],\": \",score[1])"
   ]
  },
  {
   "cell_type": "markdown",
   "id": "5c2d640e",
   "metadata": {},
   "source": [
    "## Saving Model"
   ]
  },
  {
   "cell_type": "code",
   "execution_count": 25,
   "id": "1560aa65",
   "metadata": {},
   "outputs": [
    {
     "name": "stdout",
     "output_type": "stream",
     "text": [
      "Saved model to disk\n"
     ]
    }
   ],
   "source": [
    "#Saving the model\n",
    "model_json = model.to_json() # serialize model to JSON\n",
    "with open(\"model.json\", \"w\") as json_file:\n",
    "    json_file.write(model_json)\n",
    "\n",
    "model.save_weights(\"smodel.h5\") # serialize weights to HDF5\n",
    "print(\"Saved model to disk\")\n",
    "\n",
    "#Loading the model\n",
    "# newmodel = model_from_json(open('model.json').read())\n",
    "# newmodel.load_weights('smodel.h5')"
   ]
  },
  {
   "cell_type": "markdown",
   "id": "3a3d9dcc",
   "metadata": {},
   "source": [
    "## Predicting for test file (Validation)"
   ]
  },
  {
   "cell_type": "code",
   "execution_count": 26,
   "id": "d5b24bc0",
   "metadata": {},
   "outputs": [
    {
     "name": "stdout",
     "output_type": "stream",
     "text": [
      "dataset loaded with shape (497, 4)\n"
     ]
    }
   ],
   "source": [
    "def ingesttest():\n",
    "    testdata = pd.read_csv('./trainingandtestdata/testdata.manual.2009.06.14.csv', encoding='latin-1')\n",
    "    testdata.columns=[\"Sentiment\",\"ItemID\",\"Date\",\"Blank\",\"SentimentSource\",\"SentimentText\"]\n",
    "    testdata.drop(['ItemID', 'SentimentSource'], axis=1, inplace=True)\n",
    "    testdata = testdata[testdata.Sentiment.isnull() == False]\n",
    "    testdata['Sentiment'] = testdata['Sentiment'].map( {4:1, 0:0, 2:1})\n",
    "    testdata = testdata[testdata['SentimentText'].isnull() == False]\n",
    "    testdata.reset_index(inplace=True)\n",
    "    testdata.drop('index', axis=1, inplace=True)\n",
    "    print ('dataset loaded with shape', testdata.shape  )  \n",
    "    return testdata\n",
    "\n",
    "testdata = ingesttest()"
   ]
  },
  {
   "cell_type": "code",
   "execution_count": 27,
   "id": "ac07297e",
   "metadata": {},
   "outputs": [
    {
     "name": "stderr",
     "output_type": "stream",
     "text": [
      "progress-bar: 100%|████████████████████████████████████████████████████████████████| 497/497 [00:00<00:00, 3527.92it/s]\n"
     ]
    },
    {
     "data": {
      "text/html": [
       "<div>\n",
       "<style scoped>\n",
       "    .dataframe tbody tr th:only-of-type {\n",
       "        vertical-align: middle;\n",
       "    }\n",
       "\n",
       "    .dataframe tbody tr th {\n",
       "        vertical-align: top;\n",
       "    }\n",
       "\n",
       "    .dataframe thead th {\n",
       "        text-align: right;\n",
       "    }\n",
       "</style>\n",
       "<table border=\"1\" class=\"dataframe\">\n",
       "  <thead>\n",
       "    <tr style=\"text-align: right;\">\n",
       "      <th></th>\n",
       "      <th>Sentiment</th>\n",
       "      <th>Date</th>\n",
       "      <th>Blank</th>\n",
       "      <th>SentimentText</th>\n",
       "      <th>tokens</th>\n",
       "    </tr>\n",
       "  </thead>\n",
       "  <tbody>\n",
       "    <tr>\n",
       "      <th>0</th>\n",
       "      <td>1</td>\n",
       "      <td>Mon May 11 03:18:03 UTC 2009</td>\n",
       "      <td>kindle2</td>\n",
       "      <td>Reading my kindle2...  Love it... Lee childs i...</td>\n",
       "      <td>[reading, my, kindle, 2, ..., love, it, ..., l...</td>\n",
       "    </tr>\n",
       "    <tr>\n",
       "      <th>1</th>\n",
       "      <td>1</td>\n",
       "      <td>Mon May 11 03:18:54 UTC 2009</td>\n",
       "      <td>kindle2</td>\n",
       "      <td>Ok, first assesment of the #kindle2 ...it fuck...</td>\n",
       "      <td>[ok, ,, first, assesment, of, the, ..., it, fu...</td>\n",
       "    </tr>\n",
       "    <tr>\n",
       "      <th>2</th>\n",
       "      <td>1</td>\n",
       "      <td>Mon May 11 03:19:04 UTC 2009</td>\n",
       "      <td>kindle2</td>\n",
       "      <td>@kenburbary You'll love your Kindle2. I've had...</td>\n",
       "      <td>[you'll, love, your, kindle, 2, ., i've, had, ...</td>\n",
       "    </tr>\n",
       "    <tr>\n",
       "      <th>3</th>\n",
       "      <td>1</td>\n",
       "      <td>Mon May 11 03:21:41 UTC 2009</td>\n",
       "      <td>kindle2</td>\n",
       "      <td>@mikefish  Fair enough. But i have the Kindle2...</td>\n",
       "      <td>[fair, enough, ., but, i, have, the, kindle, 2...</td>\n",
       "    </tr>\n",
       "    <tr>\n",
       "      <th>4</th>\n",
       "      <td>1</td>\n",
       "      <td>Mon May 11 03:22:00 UTC 2009</td>\n",
       "      <td>kindle2</td>\n",
       "      <td>@richardebaker no. it is too big. I'm quite ha...</td>\n",
       "      <td>[no, ., it, is, too, big, ., i'm, quite, happy...</td>\n",
       "    </tr>\n",
       "  </tbody>\n",
       "</table>\n",
       "</div>"
      ],
      "text/plain": [
       "   Sentiment                          Date    Blank  \\\n",
       "0          1  Mon May 11 03:18:03 UTC 2009  kindle2   \n",
       "1          1  Mon May 11 03:18:54 UTC 2009  kindle2   \n",
       "2          1  Mon May 11 03:19:04 UTC 2009  kindle2   \n",
       "3          1  Mon May 11 03:21:41 UTC 2009  kindle2   \n",
       "4          1  Mon May 11 03:22:00 UTC 2009  kindle2   \n",
       "\n",
       "                                       SentimentText  \\\n",
       "0  Reading my kindle2...  Love it... Lee childs i...   \n",
       "1  Ok, first assesment of the #kindle2 ...it fuck...   \n",
       "2  @kenburbary You'll love your Kindle2. I've had...   \n",
       "3  @mikefish  Fair enough. But i have the Kindle2...   \n",
       "4  @richardebaker no. it is too big. I'm quite ha...   \n",
       "\n",
       "                                              tokens  \n",
       "0  [reading, my, kindle, 2, ..., love, it, ..., l...  \n",
       "1  [ok, ,, first, assesment, of, the, ..., it, fu...  \n",
       "2  [you'll, love, your, kindle, 2, ., i've, had, ...  \n",
       "3  [fair, enough, ., but, i, have, the, kindle, 2...  \n",
       "4  [no, ., it, is, too, big, ., i'm, quite, happy...  "
      ]
     },
     "execution_count": 27,
     "metadata": {},
     "output_type": "execute_result"
    }
   ],
   "source": [
    "testdata = postprocess(testdata)\n",
    "testdata.head(5)"
   ]
  },
  {
   "cell_type": "code",
   "execution_count": 28,
   "id": "8dddc43a",
   "metadata": {},
   "outputs": [],
   "source": [
    "test_X = np.array(testdata.tokens)\n",
    "test_y = np.array(testdata.Sentiment)"
   ]
  },
  {
   "cell_type": "code",
   "execution_count": 31,
   "id": "d75e1439",
   "metadata": {},
   "outputs": [
    {
     "name": "stderr",
     "output_type": "stream",
     "text": [
      "497it [00:00, 1485.13it/s]\n"
     ]
    },
    {
     "data": {
      "text/plain": [
       "(497, 200)"
      ]
     },
     "execution_count": 31,
     "metadata": {},
     "output_type": "execute_result"
    }
   ],
   "source": [
    "test_w2v_vecs = np.concatenate([buildWordVector(z, n_dim) for z in tqdm(map(lambda x:x, test_X))])\n",
    "test_w2v_vecs.shape"
   ]
  },
  {
   "cell_type": "code",
   "execution_count": 32,
   "id": "635b0fdc",
   "metadata": {},
   "outputs": [
    {
     "name": "stdout",
     "output_type": "stream",
     "text": [
      "4/4 - 0s - loss: 0.5987 - accuracy: 0.6962 - 61ms/epoch - 15ms/step\n",
      "loss :  0.5987269282341003 \n",
      " accuracy :  0.696177065372467\n"
     ]
    }
   ],
   "source": [
    "# model.predict_classes(test_w2v_vecs)\n",
    "score = model.evaluate(test_w2v_vecs,test_y, batch_size=128, verbose=2)\n",
    "print(model.metrics_names[0],\": \",score[0],\"\\n\",model.metrics_names[1],\": \",score[1])"
   ]
  },
  {
   "cell_type": "code",
   "execution_count": null,
   "id": "b1c49588",
   "metadata": {},
   "outputs": [],
   "source": []
  }
 ],
 "metadata": {
  "kernelspec": {
   "display_name": "Python 3 (ipykernel)",
   "language": "python",
   "name": "python3"
  },
  "language_info": {
   "codemirror_mode": {
    "name": "ipython",
    "version": 3
   },
   "file_extension": ".py",
   "mimetype": "text/x-python",
   "name": "python",
   "nbconvert_exporter": "python",
   "pygments_lexer": "ipython3",
   "version": "3.10.4"
  }
 },
 "nbformat": 4,
 "nbformat_minor": 5
}
